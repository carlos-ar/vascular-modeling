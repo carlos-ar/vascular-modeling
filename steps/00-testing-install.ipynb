{
 "cells": [
  {
   "cell_type": "markdown",
   "id": "000af254-4b24-4c8c-b0be-6181eb4b7ae2",
   "metadata": {},
   "source": [
    "# Testing installation\n",
    "\n",
    "This notebook is testing the installation of a few packages, prints out the version numbers, and tries to run this on mybinder.org"
   ]
  },
  {
   "cell_type": "code",
   "execution_count": null,
   "id": "e5499c92-f03d-44fa-8538-7936d2a553cb",
   "metadata": {
    "scrolled": true
   },
   "outputs": [],
   "source": [
    "import numpy as np\n",
    "import matplotlib.pyplot as plt\n",
    "\n",
    "x = np.linspace(0,2*np.pi,100)\n",
    "y = np.sin(x)\n",
    "\n",
    "fig, ax = plt.subplots(1,1, dpi=150)\n",
    "ax.plot(x,y,\n",
    "        color='green',\n",
    "        marker='o')"
   ]
  },
  {
   "cell_type": "markdown",
   "id": "62f4a151-7cf9-45ca-b308-da6460f0a774",
   "metadata": {},
   "source": [
    "# Check certain package versions\n",
    "\n",
    "Had ChatGPT write a quick script using the following prompt: \"can you write me a script in python that gets all packages installed using pip, in a subprocess, and then calls grep to only get a subset of them\" \n",
    "\n",
    "Modified the example call to loop through the package I want to know their versions."
   ]
  },
  {
   "cell_type": "code",
   "execution_count": 7,
   "id": "99fe163d-d5f8-46fa-8ca5-7639ef48e97a",
   "metadata": {},
   "outputs": [
    {
     "name": "stdout",
     "output_type": "stream",
     "text": [
      "numpy                         1.26.2\n",
      "numpydoc                      1.5.0\n",
      "matplotlib                    3.8.2\n",
      "matplotlib-inline             0.1.6\n",
      "jupyter                       1.0.0\n",
      "jupyter_client                8.6.0\n",
      "jupyter-console               6.6.3\n",
      "jupyter_core                  5.5.0\n",
      "jupyter-events                0.8.0\n",
      "jupyter-lsp                   2.2.5\n",
      "jupyter_server                2.10.0\n",
      "jupyter_server_terminals      0.5.3\n",
      "jupyterlab                    4.2.1\n",
      "jupyterlab_pygments           0.3.0\n",
      "jupyterlab_server             2.27.2\n",
      "jupyterlab_widgets            3.0.11\n",
      "vtk                           9.2.6\n",
      "\n",
      "meshio                        5.3.5\n"
     ]
    }
   ],
   "source": [
    "import subprocess\n",
    "\n",
    "# Modify the 'grep' command to include your search term dynamically\n",
    "def get_filtered_packages(search_term):\n",
    "    try:\n",
    "        # Run 'pip list' command to get the list of installed packages\n",
    "        pip_process = subprocess.Popen(['pip', 'list'], stdout=subprocess.PIPE, stderr=subprocess.PIPE)\n",
    "        grep_process = subprocess.Popen(['grep', search_term], stdin=pip_process.stdout, stdout=subprocess.PIPE)\n",
    "        \n",
    "        # Close pip process stdout to signal no more data will be sent\n",
    "        pip_process.stdout.close()\n",
    "        \n",
    "        # Get the output of the grep process\n",
    "        out, err = grep_process.communicate()\n",
    "        \n",
    "        if err:\n",
    "            print(\"Error occurred:\", err.decode())\n",
    "        else:\n",
    "            # Decode the byte output to string\n",
    "            packages = out.decode().strip()\n",
    "            return packages\n",
    "    except Exception as e:\n",
    "        print(f\"An error occurred: {e}\")\n",
    "\n",
    "# Packages I want to see their version:\n",
    "\n",
    "packages_check = ['numpy', 'matplotlib', 'jupyter', 'vtk', 'itk', 'meshio']\n",
    "for search_term in packages_check:\n",
    "    filtered_packages = get_filtered_packages(search_term)\n",
    "    print(filtered_packages)"
   ]
  },
  {
   "cell_type": "code",
   "execution_count": null,
   "id": "b9579d37-1ccf-429a-92d3-b5034f5c3e62",
   "metadata": {},
   "outputs": [],
   "source": []
  }
 ],
 "metadata": {
  "kernelspec": {
   "display_name": "Python 3 (ipykernel)",
   "language": "python",
   "name": "python3"
  },
  "language_info": {
   "codemirror_mode": {
    "name": "ipython",
    "version": 3
   },
   "file_extension": ".py",
   "mimetype": "text/x-python",
   "name": "python",
   "nbconvert_exporter": "python",
   "pygments_lexer": "ipython3",
   "version": "3.9.18"
  }
 },
 "nbformat": 4,
 "nbformat_minor": 5
}
