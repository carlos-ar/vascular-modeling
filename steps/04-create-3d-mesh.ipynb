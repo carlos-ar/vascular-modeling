{
 "cells": [
  {
   "cell_type": "markdown",
   "id": "8bbcf60b-d3de-4bf9-b2d8-c2152613b799",
   "metadata": {},
   "source": [
    "# Solid mesh"
   ]
  },
  {
   "cell_type": "code",
   "execution_count": null,
   "id": "9eef7bcd-1a43-4e06-8189-408e827883b1",
   "metadata": {},
   "outputs": [],
   "source": []
  }
 ],
 "metadata": {
  "kernelspec": {
   "display_name": "Python 3 (ipykernel)",
   "language": "python",
   "name": "python3"
  },
  "language_info": {
   "codemirror_mode": {
    "name": "ipython",
    "version": 3
   },
   "file_extension": ".py",
   "mimetype": "text/x-python",
   "name": "python",
   "nbconvert_exporter": "python",
   "pygments_lexer": "ipython3",
   "version": "3.9.19"
  }
 },
 "nbformat": 4,
 "nbformat_minor": 5
}
