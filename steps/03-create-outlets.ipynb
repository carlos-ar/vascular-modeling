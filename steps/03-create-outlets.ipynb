{
 "cells": [
  {
   "cell_type": "code",
   "execution_count": 1,
   "id": "7fd3911a",
   "metadata": {},
   "outputs": [],
   "source": [
    "%load_ext autoreload\n",
    "%autoreload 2"
   ]
  },
  {
   "cell_type": "code",
   "execution_count": 4,
   "id": "07f722f1",
   "metadata": {
    "scrolled": true
   },
   "outputs": [
    {
     "name": "stdout",
     "output_type": "stream",
     "text": [
      "\n",
      "--------------------------------------------------------------------------------\n",
      "running paraview script: create_outlets.py\n",
      "--------------------------------------------------------------------------------\n",
      "\n"
     ]
    },
    {
     "data": {
      "text/plain": [
       "<Popen: returncode: 1 args: ['/home/carlosar/sfw/ParaView-5.11.2-MPI-Linux-P...>"
      ]
     },
     "execution_count": 4,
     "metadata": {},
     "output_type": "execute_result"
    }
   ],
   "source": [
    "import os\n",
    "from app.paraview_driver import run_script\n",
    "from app.io import make_save_directory\n",
    "\n",
    "desired_output_path = './data/step_03_output'\n",
    "make_save_directory(desired_output_path)\n",
    "\n",
    "paraview_pvbatch = '/home/carlosar/sfw/ParaView-5.11.2-MPI-Linux-Python3.9-x86_64/bin/pvbatch'\n",
    "script_name = 'create_outlets.py'\n",
    "data_path = './data/testcase'\n",
    "files = ['surface_curated.stl', 'normals.npy', 'endpoints.npy', 'radii.npy'] \n",
    "run_script(paraview_pvbatch, \n",
    "           script_name, \n",
    "           data_path,\n",
    "           files,\n",
    "           desired_output_path)"
   ]
  },
  {
   "cell_type": "code",
   "execution_count": null,
   "id": "447242dc",
   "metadata": {},
   "outputs": [],
   "source": []
  }
 ],
 "metadata": {
  "kernelspec": {
   "display_name": "Python 3 (ipykernel)",
   "language": "python",
   "name": "python3"
  },
  "language_info": {
   "codemirror_mode": {
    "name": "ipython",
    "version": 3
   },
   "file_extension": ".py",
   "mimetype": "text/x-python",
   "name": "python",
   "nbconvert_exporter": "python",
   "pygments_lexer": "ipython3",
   "version": "3.9.13"
  }
 },
 "nbformat": 4,
 "nbformat_minor": 5
}
