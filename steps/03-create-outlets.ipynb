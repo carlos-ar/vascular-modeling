{
 "cells": [
  {
   "cell_type": "markdown",
   "id": "25cb1a12-eb8e-4764-a1cc-de622e49a422",
   "metadata": {},
   "source": [
    "# Create outlets from centerlines\n",
    "\n",
    "Once we have a decent surface mesh, we must remember that the vessel segmentation process does not know what a numerical boundary condition is! In all simulation software, we need to accomplish an approximation to the fluid transport at the boundaries, and this is accomplished by setting a boundary condition, or in what is know as an \"outlet\". \n",
    "\n",
    "## Centerline approximation\n",
    "\n",
    "In our vessel system, we will approximate all outlets by using the centerline extracted from 3D-Slicers `vmtk` plug-in. In the many simulation software packages that aim to simulate flow through vessels, some version of `vtmk`'s centerline extract method exists. We have processed the data from 3D-slicer's centerline extraction and used those automated endpoints and centerlines to cut the outlets at those points.  \n",
    "\n",
    "## `vmtk` plug-in data\n",
    "\n",
    "In 3D-slicer, there is a `json` file and directory structure that displays all the information we use here, namely the `radii.npy` and `endpoints.npy` files use this information. We have extracted this information with scripts elsewhere. We then take this data structure and calculate the normal vectors at these outlets and construct the `normals.npy` file. \n",
    "\n",
    "## Paraview `box-cut`\n",
    "The data we have created for this particular mesh system now allows us to use Paraview again to create the outlets. The Paraview script `create_outlets.py` loops through all the endpoints, centers the box at those locations, rotates them to match the normal vector, and cuts the outlet. This, however, depends on the integrity of the data we extracted from 3D-slicer. "
   ]
  },
  {
   "cell_type": "code",
   "execution_count": 1,
   "id": "7fd3911a",
   "metadata": {},
   "outputs": [],
   "source": [
    "%load_ext autoreload\n",
    "%autoreload 2"
   ]
  },
  {
   "cell_type": "code",
   "execution_count": 4,
   "id": "07f722f1",
   "metadata": {
    "scrolled": true
   },
   "outputs": [
    {
     "name": "stdout",
     "output_type": "stream",
     "text": [
      "\n",
      "--------------------------------------------------------------------------------\n",
      "running paraview script: create_outlets.py\n",
      "--------------------------------------------------------------------------------\n",
      "\n"
     ]
    },
    {
     "data": {
      "text/plain": [
       "<Popen: returncode: 1 args: ['/home/carlosar/sfw/ParaView-5.11.2-MPI-Linux-P...>"
      ]
     },
     "execution_count": 4,
     "metadata": {},
     "output_type": "execute_result"
    }
   ],
   "source": [
    "import os\n",
    "from app.paraview_driver import run_script\n",
    "from app.io import make_save_directory\n",
    "\n",
    "desired_output_path = './data/step_03_output'\n",
    "make_save_directory(desired_output_path)\n",
    "\n",
    "paraview_pvbatch = '/home/carlosar/sfw/ParaView-5.11.2-MPI-Linux-Python3.9-x86_64/bin/pvbatch'\n",
    "script_name = 'create_outlets.py'\n",
    "data_path = './data/testcase'\n",
    "files = ['surface_curated.stl', 'normals.npy', 'endpoints.npy', 'radii.npy'] \n",
    "run_script(paraview_pvbatch, \n",
    "           script_name, \n",
    "           data_path,\n",
    "           files,\n",
    "           desired_output_path)"
   ]
  },
  {
   "cell_type": "code",
   "execution_count": null,
   "id": "447242dc",
   "metadata": {},
   "outputs": [],
   "source": []
  }
 ],
 "metadata": {
  "kernelspec": {
   "display_name": "Python 3 (ipykernel)",
   "language": "python",
   "name": "python3"
  },
  "language_info": {
   "codemirror_mode": {
    "name": "ipython",
    "version": 3
   },
   "file_extension": ".py",
   "mimetype": "text/x-python",
   "name": "python",
   "nbconvert_exporter": "python",
   "pygments_lexer": "ipython3",
   "version": "3.9.19"
  }
 },
 "nbformat": 4,
 "nbformat_minor": 5
}
