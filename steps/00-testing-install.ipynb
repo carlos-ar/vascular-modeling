{
 "cells": [
  {
   "cell_type": "markdown",
   "id": "000af254-4b24-4c8c-b0be-6181eb4b7ae2",
   "metadata": {},
   "source": [
    "# Testing installation\n",
    "\n",
    "This notebook is testing the installation of a few packages, prints out the version numbers, and tries to run this on mybinder.org"
   ]
  },
  {
   "cell_type": "code",
   "execution_count": null,
   "id": "813d51cf-3948-404a-b2dc-275996c84d4a",
   "metadata": {},
   "outputs": [],
   "source": [
    "import numpy as np\n",
    "import matplotlib.pyplot as plt\n",
    "\n",
    "x = np.linspace(0,2*np.pi,100)\n",
    "y = np.sin(x)\n",
    "\n",
    "fig, ax = plt.subplots(1,1, dpi=150)\n",
    "ax.plot(x,y,\n",
    "        color='green',\n",
    "        marker='o')"
   ]
  },
  {
   "cell_type": "code",
   "execution_count": null,
   "id": "99fe163d-d5f8-46fa-8ca5-7639ef48e97a",
   "metadata": {},
   "outputs": [],
   "source": []
  }
 ],
 "metadata": {
  "kernelspec": {
   "display_name": "Python 3 (ipykernel)",
   "language": "python",
   "name": "python3"
  },
  "language_info": {
   "codemirror_mode": {
    "name": "ipython",
    "version": 3
   },
   "file_extension": ".py",
   "mimetype": "text/x-python",
   "name": "python",
   "nbconvert_exporter": "python",
   "pygments_lexer": "ipython3",
   "version": "3.9.18"
  }
 },
 "nbformat": 4,
 "nbformat_minor": 5
}
